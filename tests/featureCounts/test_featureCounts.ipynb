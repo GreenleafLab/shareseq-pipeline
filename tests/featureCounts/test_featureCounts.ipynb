{
 "cells": [
  {
   "cell_type": "markdown",
   "id": "a0b83f68-0ca9-474a-9168-dc9788e2a89f",
   "metadata": {},
   "source": [
    "# Testing FeatureCounts Behavior"
   ]
  },
  {
   "cell_type": "markdown",
   "id": "35118d62-4396-46b0-baaf-452667626d57",
   "metadata": {},
   "source": [
    "Background: SHAREseq RNA libraries are fr-stranded (read 1 is the original mRNA sequence). To ensure that the featureCounts tool is assigning features to aligned reads properly, we are testing a few scenarios as described below by creating synthetic reads.\n",
    "\n",
    "Scenarios to test:\n",
    "\n",
    "1. pos\n",
    "    - description: read that aligns to the correct strand of an annotation\n",
    "2. neg\n",
    "    - description: read that aligns to the opposite strand of an annotation\n",
    "3. intron\n",
    "    - description: read that aligns to just an intron\n",
    "4. splice\n",
    "    - description: read that aligns across an exon splice junction\n",
    "5. overlap1\n",
    "    - description: read that aligns overlapping two transcripts for the same gene\n",
    "6. overlap2\n",
    "    - description: read that aligns overlapping with two transcripts from different genes (opposite strands)"
   ]
  },
  {
   "cell_type": "markdown",
   "id": "35050c8b-8b1e-448a-8e78-e2b73296db5d",
   "metadata": {},
   "source": [
    "<img src='./test_featureCounts_reads_location.png'/>"
   ]
  },
  {
   "cell_type": "markdown",
   "id": "4cf9c87f-77fb-458f-91a9-e516c0c56572",
   "metadata": {},
   "source": [
    "## manually create synthetic reads"
   ]
  },
  {
   "cell_type": "code",
   "execution_count": null,
   "id": "70d166ba-b7fa-4724-a491-889073b05227",
   "metadata": {},
   "outputs": [],
   "source": [
    "# copy a samfile header\n",
    "#!module load biology samtools; samtools view -H /mypath/03_rna_star_Aligned.out.bam > /mypath/test_featureCounts/aligned.sam\n",
    "# then manually edit the sam file"
   ]
  },
  {
   "cell_type": "code",
   "execution_count": 70,
   "id": "376fa9dc-da16-42bc-82f5-617d3b0e24be",
   "metadata": {},
   "outputs": [
    {
     "name": "stdout",
     "output_type": "stream",
     "text": [
      "test_pos\t0\tchr12\t130987095\t255\t100M\t*\t0\t0\tGCCCCTATTGGACTCATGTCCTATTTACATGGAAATCCAAGGAGGGCCTGAAAGTCTACGTCAACGGGACCCTGAGCACCTCTGATCCGAGTGGAAAAGT\tFFFFFFFFFFFFFFFFFFFFFFFFFFFFFFFFFFFFFFFFFFFFFFFFFFFFFFFFFFFFFFFFFFFFFFFFFFFFFFFFFFFFFFFFFFFFFFFFFFFF\tNH:i:1\tHI:i:1\tAS:i:58\tNM:i:3\tMD:Z:53T6G0G4\n",
      "test_neg\t16\tchr12\t130987095\t255\t100M\t*\t0\t0\tGCCCCTATTGGACTCATGTCCTATTTACATGGAAATCCAAGGAGGGCCTGAAAGTCTACGTCAACGGGACCCTGAGCACCTCTGATCCGAGTGGAAAAGT\tFFFFFFFFFFFFFFFFFFFFFFFFFFFFFFFFFFFFFFFFFFFFFFFFFFFFFFFFFFFFFFFFFFFFFFFFFFFFFFFFFFFFFFFFFFFFFFFFFFFF\tNH:i:1\tHI:i:1\tAS:i:58\tNM:i:3\tMD:Z:53T6G0G4\n",
      "test_intron\t0\tchr12\t130982275\t255\t100M\t*\t0\t0\tCTGGGCTCCGTCTGCCCGTGCACTGTGTGCCTGCTGTAGGTTACCTGACCACACTGACCTCAGTGATCACACCTGTGATGTGCAGATGATATTGACAGTA\tFFFFFFFFFFFFFFFFFFFFFFFFFFFFFFFFFFFFFFFFFFFFFFFFFFFFFFFFFFFFFFFFFFFFFFFFFFFFFFFFFFFFFFFFFFFFFFFFFFFF\tNH:i:1\tHI:i:1\tAS:i:58\tNM:i:3\tMD:Z:53T6G0G4\n",
      "test_splice\t0\tchr12\t130982013\t255\t50M5032N50M\t*\t0\t0\tTGTATACGCGGGACAATTCCATGACATGGGAGGCCTCCTTCAGCCCCCCAGCCCCTATTGGACTCATGTCCTATTTACATGGAAATCCAAGGAGGGCCTG\tFFFFFFFFFFFFFFFFFFFFFFFFFFFFFFFFFFFFFFFFFFFFFFFFFFFFFFFFFFFFFFFFFFFFFFFFFFFFFFFFFFFFFFFFFFFFFFFFFFFF\tNH:i:1\tHI:i:1\tAS:i:58\tNM:i:3\tMD:Z:53T6G0G4\n",
      "test_overlap1\t0\tchr12\t130981934\t255\t100M\t*\t0\t0\tATCCCTTCTGCGTATGGGGGACAGGTCATCTCCAATGGGTTCAAAGTCTGCTCCAGCGGTGGCAGAGGCTCTGTGGAGCTGTATACGCGGGACAATTCCA\tFFFFFFFFFFFFFFFFFFFFFFFFFFFFFFFFFFFFFFFFFFFFFFFFFFFFFFFFFFFFFFFFFFFFFFFFFFFFFFFFFFFFFFFFFFFFFFFFFFFF\tNH:i:1\tHI:i:1\tAS:i:58\tNM:i:3\tMD:Z:53T6G0G4\n",
      "test_overlap2_pos\t0\tchr12\t130991014\t255\t100M\t*\t0\t0\tGAAAGCATGCTTTATTGTCTTCAACGCTGCCAAGCCTCTTCATGACATCCACAGCAAGCCCCGTGGTGAGCAGACACATCTTCCTTGGTCCCCCTTGCTG\tFFFFFFFFFFFFFFFFFFFFFFFFFFFFFFFFFFFFFFFFFFFFFFFFFFFFFFFFFFFFFFFFFFFFFFFFFFFFFFFFFFFFFFFFFFFFFFFFFFFF\tNH:i:1\tHI:i:1\tAS:i:58\tNM:i:3\tMD:Z:53T6G0G4\n",
      "test_overlap2_neg\t16\tchr12\t130991014\t255\t100M\t*\t0\t0\tGAAAGCATGCTTTATTGTCTTCAACGCTGCCAAGCCTCTTCATGACATCCACAGCAAGCCCCGTGGTGAGCAGACACATCTTCCTTGGTCCCCCTTGCTG\tFFFFFFFFFFFFFFFFFFFFFFFFFFFFFFFFFFFFFFFFFFFFFFFFFFFFFFFFFFFFFFFFFFFFFFFFFFFFFFFFFFFFFFFFFFFFFFFFFFFF\tNH:i:1\tHI:i:1\tAS:i:58\tNM:i:3\tMD:Z:53T6G0G4\n"
     ]
    }
   ],
   "source": [
    "# show synthetic reads in sam file\n",
    "!module load biology samtools; samtools view aligned.sam"
   ]
  },
  {
   "cell_type": "markdown",
   "id": "5ff7670a-aac0-4e7e-a254-f4e2f665997e",
   "metadata": {},
   "source": [
    "## run featureCounts"
   ]
  },
  {
   "cell_type": "markdown",
   "id": "a575e9a7-f3a4-46ee-8b5e-50a61fc14668",
   "metadata": {},
   "source": [
    "### align to gene, include intronic reads, strand specific (current SHAREseq pipeline strategy)"
   ]
  },
  {
   "cell_type": "code",
   "execution_count": 67,
   "id": "07e1772c-5439-4dc4-8799-d79181cb9110",
   "metadata": {},
   "outputs": [
    {
     "name": "stdout",
     "output_type": "stream",
     "text": [
      "test_pos\tAssigned\t1\tADGRD1\n",
      "test_neg\tUnassigned_NoFeatures\t-1\tNA\n",
      "test_intron\tAssigned\t1\tADGRD1\n",
      "test_splice\tAssigned\t1\tADGRD1\n",
      "test_overlap1\tAssigned\t1\tADGRD1\n",
      "test_overlap2_pos\tAssigned\t1\tADGRD1\n",
      "test_overlap2_neg\tAssigned\t1\tADGRD1-AS1\n"
     ]
    }
   ],
   "source": [
    "!featureCounts -Q 30 -a /oak/stanford/groups/wjg/bliu/resources/gtf/gencode.v41.annotation.BPfiltered.gtf -t gene -g gene_name -s 1 -o output.genes -R CORE aligned.sam 2> featureCounts.log\n",
    "!cat aligned.sam.featureCounts"
   ]
  },
  {
   "cell_type": "markdown",
   "id": "7424f73c-5d14-4749-85cb-f52632f00044",
   "metadata": {},
   "source": [
    "### align to exon, exclude intronic reads, strand specific"
   ]
  },
  {
   "cell_type": "code",
   "execution_count": 68,
   "id": "06f31b47-1ff6-46c4-9ad9-8ecf1b587260",
   "metadata": {},
   "outputs": [
    {
     "name": "stdout",
     "output_type": "stream",
     "text": [
      "test_pos\tAssigned\t1\tADGRD1\n",
      "test_neg\tUnassigned_NoFeatures\t-1\tNA\n",
      "test_intron\tUnassigned_NoFeatures\t-1\tNA\n",
      "test_splice\tAssigned\t1\tADGRD1\n",
      "test_overlap1\tAssigned\t1\tADGRD1\n",
      "test_overlap2_pos\tAssigned\t1\tADGRD1\n",
      "test_overlap2_neg\tAssigned\t1\tADGRD1-AS1\n"
     ]
    }
   ],
   "source": [
    "!featureCounts -Q 30 -a /oak/stanford/groups/wjg/bliu/resources/gtf/gencode.v41.annotation.BPfiltered.gtf -t exon -g gene_name -s 1 -o output.genes -R CORE aligned.sam 2> featureCounts.log\n",
    "!cat aligned.sam.featureCounts"
   ]
  },
  {
   "cell_type": "markdown",
   "id": "509a356e-d8a5-4d88-a518-4bdb75347839",
   "metadata": {},
   "source": [
    "### align to gene, include intronic reads, non stranded"
   ]
  },
  {
   "cell_type": "code",
   "execution_count": 72,
   "id": "2afe4ef8-91b3-4945-98a3-f2ec694e6350",
   "metadata": {},
   "outputs": [
    {
     "name": "stdout",
     "output_type": "stream",
     "text": [
      "test_pos\tAssigned\t1\tADGRD1\n",
      "test_neg\tAssigned\t1\tADGRD1\n",
      "test_intron\tAssigned\t1\tADGRD1\n",
      "test_splice\tAssigned\t1\tADGRD1\n",
      "test_overlap1\tAssigned\t1\tADGRD1\n",
      "test_overlap2_pos\tUnassigned_Ambiguity\t-1\tNA\n",
      "test_overlap2_neg\tUnassigned_Ambiguity\t-1\tNA\n"
     ]
    }
   ],
   "source": [
    "!featureCounts -Q 30 -a /oak/stanford/groups/wjg/bliu/resources/gtf/gencode.v41.annotation.BPfiltered.gtf -t gene -g gene_name -o output.genes -R CORE aligned.sam 2> featureCounts.log\n",
    "!cat aligned.sam.featureCounts"
   ]
  },
  {
   "cell_type": "markdown",
   "id": "0dffcf56-43da-4a84-ad8a-643e79d57bf7",
   "metadata": {},
   "source": [
    "### align to exon, exclude intronic reads, non stranded"
   ]
  },
  {
   "cell_type": "code",
   "execution_count": 75,
   "id": "caa61c7e-8a5c-4659-8b38-c7babc00fc2a",
   "metadata": {},
   "outputs": [
    {
     "name": "stdout",
     "output_type": "stream",
     "text": [
      "test_pos\tAssigned\t1\tADGRD1\n",
      "test_neg\tAssigned\t1\tADGRD1\n",
      "test_intron\tUnassigned_NoFeatures\t-1\tNA\n",
      "test_splice\tAssigned\t1\tADGRD1\n",
      "test_overlap1\tAssigned\t1\tADGRD1\n",
      "test_overlap2_pos\tUnassigned_Ambiguity\t-1\tNA\n",
      "test_overlap2_neg\tUnassigned_Ambiguity\t-1\tNA\n"
     ]
    }
   ],
   "source": [
    "!featureCounts -Q 30 -a /oak/stanford/groups/wjg/bliu/resources/gtf/gencode.v41.annotation.BPfiltered.gtf -t exon -g gene_name -o output.genes -R CORE aligned.sam 2> featureCounts.log\n",
    "!cat aligned.sam.featureCounts"
   ]
  }
 ],
 "metadata": {
  "kernelspec": {
   "display_name": "Python [conda env:shareseq]",
   "language": "python",
   "name": "conda-env-shareseq-py"
  },
  "language_info": {
   "codemirror_mode": {
    "name": "ipython",
    "version": 3
   },
   "file_extension": ".py",
   "mimetype": "text/x-python",
   "name": "python",
   "nbconvert_exporter": "python",
   "pygments_lexer": "ipython3",
   "version": "3.9.12"
  }
 },
 "nbformat": 4,
 "nbformat_minor": 5
}
