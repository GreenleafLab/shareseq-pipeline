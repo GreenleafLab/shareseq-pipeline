{
 "cells": [
  {
   "cell_type": "markdown",
   "id": "a0b83f68-0ca9-474a-9168-dc9788e2a89f",
   "metadata": {},
   "source": [
    "# Testing FeatureCounts Behavior"
   ]
  },
  {
   "cell_type": "markdown",
   "id": "35118d62-4396-46b0-baaf-452667626d57",
   "metadata": {},
   "source": [
    "Background: SHAREseq RNA libraries are fr-stranded (read 1 is the original mRNA sequence). To ensure that the featureCounts tool is assigning features to aligned reads properly, we are testing a few scenarios as described below by creating synthetic reads.\n",
    "\n",
    "Scenarios to test:\n",
    "\n",
    "1. pos\n",
    "    - description: read that aligns to the correct strand of an annotation\n",
    "2. neg\n",
    "    - description: read that aligns to the opposite strand of an annotation\n",
    "3. intron\n",
    "    - description: read that aligns to just an intron\n",
    "4. splice\n",
    "    - description: read that aligns across an exon splice junction\n",
    "5. overlap1\n",
    "    - description: read that aligns overlapping two transcripts for the same gene\n",
    "6. overlap2\n",
    "    - description: read that aligns overlapping with two transcripts from different genes (opposite strands)"
   ]
  },
  {
   "cell_type": "markdown",
   "id": "35050c8b-8b1e-448a-8e78-e2b73296db5d",
   "metadata": {},
   "source": [
    "Our test locus on chr12:\n",
    "\n",
    "We see several isoforms of ADGRD1 and its overlapping antisense gene ADGRD1-AS1\n",
    "\n",
    "splice_a and splice_b are the first and second parts of our spliced read\n",
    "\n",
    "<img src='./test_featureCounts.svg'/>"
   ]
  },
  {
   "cell_type": "markdown",
   "id": "aa0629c0",
   "metadata": {},
   "source": [
    "## Create mini STAR reference\n",
    "We make a STAR reference containing just chr12. \n",
    "\n",
    "This takes about 3GB of disk space for the outputs and 5 minutes to build the index single-threaded (fewer with the 6 threads shown here)"
   ]
  },
  {
   "cell_type": "code",
   "execution_count": 1,
   "id": "c4f2a72a",
   "metadata": {},
   "outputs": [
    {
     "name": "stdout",
     "output_type": "stream",
     "text": [
      "\tSTAR --runMode genomeGenerate --runThreadN 6 --genomeDir star_chr12 --genomeFastaFiles chr12.fa --outFileNamePrefix star_chr12 --outTmpDir /tmp/star_chr12 --sjdbGTFfile genes.gtf --genomeSAindexNbases 12\n",
      "\tSTAR version: 2.7.10b   compiled: 2022-11-01T09:53:26-04:00 :/home/dobin/data/STAR/STARcode/STAR.master/source\n",
      "Feb 20 13:27:30 ..... started STAR run\n",
      "Feb 20 13:27:30 ... starting to generate Genome files\n",
      "Feb 20 13:27:41 ..... processing annotations GTF\n",
      "Feb 20 13:27:41 ... starting to sort Suffix Array. This may take a long time...\n",
      "Feb 20 13:27:42 ... sorting Suffix Array chunks and saving them to disk...\n",
      "Feb 20 13:28:17 ... loading chunks from disk, packing SA...\n",
      "Feb 20 13:28:28 ... finished generating suffix array\n",
      "Feb 20 13:28:28 ... generating Suffix Array index\n",
      "Feb 20 13:28:39 ... completed Suffix Array index\n",
      "Feb 20 13:28:39 ..... inserting junctions into the genome indices\n",
      "Feb 20 13:28:42 ... writing Genome to disk ...\n",
      "Feb 20 13:28:42 ... writing Suffix Array to disk ...\n",
      "Feb 20 13:28:47 ... writing SAindex to disk\n",
      "Feb 20 13:28:48 ..... finished successfully\n"
     ]
    }
   ],
   "source": [
    "%%bash\n",
    "# Get a subsetted gtf file with just the lines we care about\n",
    "# sed -n '2094578,2094868p' /oak/stanford/groups/wjg/bliu/resources/gtf/gencode.v41.annotation.BPfiltered.gtf > genes.gtf\n",
    "\n",
    "# Clean up any previous outputs\n",
    "rm -f chr12.fa*\n",
    "rm -rf star_chr12\n",
    "rm -rf /tmp/star_chr12\n",
    "\n",
    "# Download chr12 reference genome\n",
    "wget --quiet https://hgdownload.soe.ucsc.edu/goldenPath/hg38/chromosomes/chr12.fa.gz\n",
    "gunzip chr12.fa.gz\n",
    "\n",
    "# Generate STAR index\n",
    "mkdir star_chr12\n",
    "STAR \\\n",
    "        --runMode genomeGenerate \\\n",
    "        --runThreadN 6 \\\n",
    "        --genomeDir star_chr12 \\\n",
    "        --genomeFastaFiles chr12.fa \\\n",
    "        --outFileNamePrefix star_chr12 \\\n",
    "        --outTmpDir /tmp/star_chr12 \\\n",
    "        --sjdbGTFfile genes.gtf \\\n",
    "        --genomeSAindexNbases 12"
   ]
  },
  {
   "cell_type": "markdown",
   "id": "665f8a09",
   "metadata": {},
   "source": [
    "## Create synthetic test reads\n",
    "We use bedtools getfasta to create the test file (plus a little hand-editing afterwards to convert to fastq format)"
   ]
  },
  {
   "cell_type": "code",
   "execution_count": 2,
   "id": "efe1112a",
   "metadata": {},
   "outputs": [
    {
     "name": "stderr",
     "output_type": "stream",
     "text": [
      "index file chr12.fa.fai not found, generating...\n"
     ]
    },
    {
     "name": "stdout",
     "output_type": "stream",
     "text": [
      ">splice::chr12:130982012-130982063(+)\n",
      "TGTATACGCGGGACAATTCCATGACATGGGAGGCCTCCTTCAGCCCCCCAG\n",
      ">splice::chr12:130987094-130987143(+)\n",
      "GCCCCTATTGGACTCATGTCCTATTTACATGGAAATCCAAGGAGGGCCT\n",
      ">pos::chr12:130987094-130987194(+)\n",
      "GCCCCTATTGGACTCATGTCCTATTTACATGGAAATCCAAGGAGGGCCTGAAAGTCTACGTCAACGGGACCCTGAGCACCTCTGATCCGAGTGGAAAAGT\n",
      ">neg::chr12:130987094-130987194(-)\n",
      "ACTTTTCCACTCGGATCAGAGGTGCTCAGGGTCCCGTTGACGTAGACTTTCAGGCCCTCCTTGGATTTCCATGTAAATAGGACATGAGTCCAATAGGGGC\n",
      ">intron::chr12:130983000-130983100(+)\n",
      "CTCATTCTTAAGGGAGGCTgcatggcccagttattaaaaagcgtgaactctggacccaaacaggctggatcaaatcccgcctctggacgttggtagttgt\n",
      ">overlap1::chr12:130981933-130982033(+)\n",
      "ATCCCTTCTGCGTATGGGGGACAGGTCATCTCCAATGGGTTCAAAGTCTGCTCCAGCGGTGGCAGAGGCTCTGTGGAGCTGTATACGCGGGACAATTCCA\n",
      ">overlap2_pos::chr12:130991013-130991113(+)\n",
      "GAAAGCATGCTTTATTGTCTTCAACGCTGCCAAGCCTCTTCATGACATCCACAGCAAGCCCCGTGGTGAGCAGACACATCTTCCTTGGTCCCCCTTGCTG\n",
      ">overlap2_neg::chr12:130991013-130991113(-)\n",
      "CAGCAAGGGGGACCAAGGAAGATGTGTCTGCTCACCACGGGGCTTGCTGTGGATGTCATGAAGAGGCTTGGCAGCGTTGAAGACAATAAAGCATGCTTTC\n"
     ]
    }
   ],
   "source": [
    "%%bash\n",
    "bedtools getfasta -fi chr12.fa -bed test.bed -s -name"
   ]
  },
  {
   "cell_type": "code",
   "execution_count": 3,
   "id": "32d933bd",
   "metadata": {},
   "outputs": [
    {
     "name": "stdout",
     "output_type": "stream",
     "text": [
      "@test_pos\n",
      "GCCCCTATTGGACTCATGTCCTATTTACATGGAAATCCAAGGAGGGCCTGAAAGTCTACGTCAACGGGACCCTGAGCACCTCTGATCCGAGTGGAAAAGT\n",
      "+\n",
      "FFFFFFFFFFFFFFFFFFFFFFFFFFFFFFFFFFFFFFFFFFFFFFFFFFFFFFFFFFFFFFFFFFFFFFFFFFFFFFFFFFFFFFFFFFFFFFFFFFFF\n",
      "@test_neg\n",
      "ACTTTTCCACTCGGATCAGAGGTGCTCAGGGTCCCGTTGACGTAGACTTTCAGGCCCTCCTTGGATTTCCATGTAAATAGGACATGAGTCCAATAGGGGC\n",
      "+\n",
      "FFFFFFFFFFFFFFFFFFFFFFFFFFFFFFFFFFFFFFFFFFFFFFFFFFFFFFFFFFFFFFFFFFFFFFFFFFFFFFFFFFFFFFFFFFFFFFFFFFFF\n",
      "@test_intron\n",
      "CTCATTCTTAAGGGAGGCTgcatggcccagttattaaaaagcgtgaactctggacccaaacaggctggatcaaatcccgcctctggacgttggtagttgt\n",
      "+\n",
      "FFFFFFFFFFFFFFFFFFFFFFFFFFFFFFFFFFFFFFFFFFFFFFFFFFFFFFFFFFFFFFFFFFFFFFFFFFFFFFFFFFFFFFFFFFFFFFFFFFFF\n",
      "@test_splice\n",
      "TGTATACGCGGGACAATTCCATGACATGGGAGGCCTCCTTCAGCCCCCCAGGCCCCTATTGGACTCATGTCCTATTTACATGGAAATCCAAGGAGGGCCT\n",
      "+\n",
      "FFFFFFFFFFFFFFFFFFFFFFFFFFFFFFFFFFFFFFFFFFFFFFFFFFFFFFFFFFFFFFFFFFFFFFFFFFFFFFFFFFFFFFFFFFFFFFFFFFFF\n",
      "@test_overlap1\n",
      "ATCCCTTCTGCGTATGGGGGACAGGTCATCTCCAATGGGTTCAAAGTCTGCTCCAGCGGTGGCAGAGGCTCTGTGGAGCTGTATACGCGGGACAATTCCA\n",
      "+\n",
      "FFFFFFFFFFFFFFFFFFFFFFFFFFFFFFFFFFFFFFFFFFFFFFFFFFFFFFFFFFFFFFFFFFFFFFFFFFFFFFFFFFFFFFFFFFFFFFFFFFFF\n",
      "@test_overlap2_pos\n",
      "GAAAGCATGCTTTATTGTCTTCAACGCTGCCAAGCCTCTTCATGACATCCACAGCAAGCCCCGTGGTGAGCAGACACATCTTCCTTGGTCCCCCTTGCTG\n",
      "+\n",
      "FFFFFFFFFFFFFFFFFFFFFFFFFFFFFFFFFFFFFFFFFFFFFFFFFFFFFFFFFFFFFFFFFFFFFFFFFFFFFFFFFFFFFFFFFFFFFFFFFFFF\n",
      "@test_overlap2_neg\n",
      "CAGCAAGGGGGACCAAGGAAGATGTGTCTGCTCACCACGGGGCTTGCTGTGGATGTCATGAAGAGGCTTGGCAGCGTTGAAGACAATAAAGCATGCTTTC\n",
      "+\n",
      "FFFFFFFFFFFFFFFFFFFFFFFFFFFFFFFFFFFFFFFFFFFFFFFFFFFFFFFFFFFFFFFFFFFFFFFFFFFFFFFFFFFFFFFFFFFFFFFFFFFF\n"
     ]
    }
   ],
   "source": [
    "!cat test.fastq"
   ]
  },
  {
   "cell_type": "markdown",
   "id": "0a6d5ce0",
   "metadata": {},
   "source": [
    "## Align our synthetic test reads"
   ]
  },
  {
   "cell_type": "code",
   "execution_count": 4,
   "id": "0a121994",
   "metadata": {},
   "outputs": [
    {
     "name": "stdout",
     "output_type": "stream",
     "text": [
      "\tSTAR --chimOutType WithinBAM --runThreadN 1 --genomeDir star_chr12 --readFilesIn test.fastq --outFileNamePrefix test --outFilterMultimapNmax 50 --outFilterScoreMinOverLread 0.3 --outFilterMatchNminOverLread 0.3 --outSAMattributes NH HI AS NM MD --outSAMtype BAM Unsorted --outSAMunmapped Within --outSAMstrandField intronMotif --outReadsUnmapped None --outFilterType BySJout --outFilterMismatchNmax 999 --outFilterMismatchNoverReadLmax 0.04 --alignIntronMin 10 --alignIntronMax 1000000 --alignMatesGapMax 1000000 --alignSJoverhangMin 8 --alignSJDBoverhangMin 1 --sjdbScore 1 --limitOutSJcollapsed 5000000\n",
      "\tSTAR version: 2.7.10b   compiled: 2022-11-01T09:53:26-04:00 :/home/dobin/data/STAR/STARcode/STAR.master/source\n",
      "Feb 20 13:28:53 ..... started STAR run\n",
      "Feb 20 13:28:53 ..... loading genome\n",
      "Feb 20 13:28:59 ..... started mapping\n",
      "Feb 20 13:28:59 ..... finished mapping\n",
      "Feb 20 13:28:59 ..... finished successfully\n"
     ]
    }
   ],
   "source": [
    "%%bash \n",
    "STAR --chimOutType WithinBAM \\\n",
    "    --runThreadN 1 \\\n",
    "    --genomeDir star_chr12 \\\n",
    "    --readFilesIn test.fastq \\\n",
    "    --outFileNamePrefix test \\\n",
    "    --outFilterMultimapNmax 50 \\\n",
    "    --outFilterScoreMinOverLread 0.3 \\\n",
    "    --outFilterMatchNminOverLread 0.3 \\\n",
    "    --outSAMattributes NH HI AS NM MD \\\n",
    "    --outSAMtype BAM Unsorted \\\n",
    "    --outSAMunmapped Within \\\n",
    "    --outSAMstrandField intronMotif \\\n",
    "    --outReadsUnmapped None \\\n",
    "    --outFilterType BySJout \\\n",
    "    --outFilterMismatchNmax 999 \\\n",
    "    --outFilterMismatchNoverReadLmax 0.04 \\\n",
    "    --alignIntronMin 10 \\\n",
    "    --alignIntronMax 1000000 \\\n",
    "    --alignMatesGapMax 1000000 \\\n",
    "    --alignSJoverhangMin 8 \\\n",
    "    --alignSJDBoverhangMin 1 \\\n",
    "    --sjdbScore 1 \\\n",
    "    --limitOutSJcollapsed 5000000 "
   ]
  },
  {
   "cell_type": "code",
   "execution_count": 5,
   "id": "eb517752",
   "metadata": {},
   "outputs": [
    {
     "name": "stdout",
     "output_type": "stream",
     "text": [
      "chr12\t130987094\t130987194\ttest_pos\t255\t+\n",
      "chr12\t130987094\t130987194\ttest_neg\t255\t-\n",
      "chr12\t130983000\t130983100\ttest_intron\t255\t+\n",
      "chr12\t130982012\t130987143\ttest_splice\t255\t+\n",
      "chr12\t130981933\t130982033\ttest_overlap1\t255\t+\n",
      "chr12\t130991013\t130991113\ttest_overlap2_pos\t255\t+\n",
      "chr12\t130991013\t130991113\ttest_overlap2_neg\t255\t-\n"
     ]
    }
   ],
   "source": [
    "%%bash\n",
    "samtools view -h testAligned.out.bam > aligned.sam\n",
    "bedtools bamtobed -i aligned.sam"
   ]
  },
  {
   "cell_type": "code",
   "execution_count": 6,
   "id": "376fa9dc-da16-42bc-82f5-617d3b0e24be",
   "metadata": {},
   "outputs": [
    {
     "name": "stdout",
     "output_type": "stream",
     "text": [
      "test_pos\t0\tchr12\t130987095\t255\t100M\t*\t0\t0\tGCCCCTATTGGACTCATGTCCTATTTACATGGAAATCCAAGGAGGGCCTGAAAGTCTACGTCAACGGGACCCTGAGCACCTCTGATCCGAGTGGAAAAGT\tFFFFFFFFFFFFFFFFFFFFFFFFFFFFFFFFFFFFFFFFFFFFFFFFFFFFFFFFFFFFFFFFFFFFFFFFFFFFFFFFFFFFFFFFFFFFFFFFFFFF\tNH:i:1\tHI:i:1\tAS:i:98\tNM:i:0\tMD:Z:100\n",
      "test_neg\t16\tchr12\t130987095\t255\t100M\t*\t0\t0\tGCCCCTATTGGACTCATGTCCTATTTACATGGAAATCCAAGGAGGGCCTGAAAGTCTACGTCAACGGGACCCTGAGCACCTCTGATCCGAGTGGAAAAGT\tFFFFFFFFFFFFFFFFFFFFFFFFFFFFFFFFFFFFFFFFFFFFFFFFFFFFFFFFFFFFFFFFFFFFFFFFFFFFFFFFFFFFFFFFFFFFFFFFFFFF\tNH:i:1\tHI:i:1\tAS:i:98\tNM:i:0\tMD:Z:100\n",
      "test_intron\t0\tchr12\t130983001\t255\t100M\t*\t0\t0\tCTCATTCTTAAGGGAGGCTGCATGGCCCAGTTATTAAAAAGCGTGAACTCTGGACCCAAACAGGCTGGATCAAATCCCGCCTCTGGACGTTGGTAGTTGT\tFFFFFFFFFFFFFFFFFFFFFFFFFFFFFFFFFFFFFFFFFFFFFFFFFFFFFFFFFFFFFFFFFFFFFFFFFFFFFFFFFFFFFFFFFFFFFFFFFFFF\tNH:i:1\tHI:i:1\tAS:i:98\tNM:i:0\tMD:Z:100\n",
      "test_splice\t0\tchr12\t130982013\t255\t51M5031N49M\t*\t0\t0\tTGTATACGCGGGACAATTCCATGACATGGGAGGCCTCCTTCAGCCCCCCAGGCCCCTATTGGACTCATGTCCTATTTACATGGAAATCCAAGGAGGGCCT\tFFFFFFFFFFFFFFFFFFFFFFFFFFFFFFFFFFFFFFFFFFFFFFFFFFFFFFFFFFFFFFFFFFFFFFFFFFFFFFFFFFFFFFFFFFFFFFFFFFFF\tNH:i:1\tHI:i:1\tAS:i:98\tNM:i:0\tMD:Z:100\tXS:A:+\n",
      "test_overlap1\t0\tchr12\t130981934\t255\t100M\t*\t0\t0\tATCCCTTCTGCGTATGGGGGACAGGTCATCTCCAATGGGTTCAAAGTCTGCTCCAGCGGTGGCAGAGGCTCTGTGGAGCTGTATACGCGGGACAATTCCA\tFFFFFFFFFFFFFFFFFFFFFFFFFFFFFFFFFFFFFFFFFFFFFFFFFFFFFFFFFFFFFFFFFFFFFFFFFFFFFFFFFFFFFFFFFFFFFFFFFFFF\tNH:i:1\tHI:i:1\tAS:i:98\tNM:i:0\tMD:Z:100\n",
      "test_overlap2_pos\t0\tchr12\t130991014\t255\t100M\t*\t0\t0\tGAAAGCATGCTTTATTGTCTTCAACGCTGCCAAGCCTCTTCATGACATCCACAGCAAGCCCCGTGGTGAGCAGACACATCTTCCTTGGTCCCCCTTGCTG\tFFFFFFFFFFFFFFFFFFFFFFFFFFFFFFFFFFFFFFFFFFFFFFFFFFFFFFFFFFFFFFFFFFFFFFFFFFFFFFFFFFFFFFFFFFFFFFFFFFFF\tNH:i:1\tHI:i:1\tAS:i:98\tNM:i:0\tMD:Z:100\n",
      "test_overlap2_neg\t16\tchr12\t130991014\t255\t100M\t*\t0\t0\tGAAAGCATGCTTTATTGTCTTCAACGCTGCCAAGCCTCTTCATGACATCCACAGCAAGCCCCGTGGTGAGCAGACACATCTTCCTTGGTCCCCCTTGCTG\tFFFFFFFFFFFFFFFFFFFFFFFFFFFFFFFFFFFFFFFFFFFFFFFFFFFFFFFFFFFFFFFFFFFFFFFFFFFFFFFFFFFFFFFFFFFFFFFFFFFF\tNH:i:1\tHI:i:1\tAS:i:98\tNM:i:0\tMD:Z:100\n"
     ]
    }
   ],
   "source": [
    "%%bash\n",
    "# show synthetic reads in sam file\n",
    "samtools view aligned.sam"
   ]
  },
  {
   "cell_type": "markdown",
   "id": "5ff7670a-aac0-4e7e-a254-f4e2f665997e",
   "metadata": {},
   "source": [
    "## run featureCounts"
   ]
  },
  {
   "cell_type": "markdown",
   "id": "a575e9a7-f3a4-46ee-8b5e-50a61fc14668",
   "metadata": {},
   "source": [
    "### align to gene, include intronic reads, strand specific (current SHAREseq pipeline strategy)"
   ]
  },
  {
   "cell_type": "code",
   "execution_count": 7,
   "id": "07e1772c-5439-4dc4-8799-d79181cb9110",
   "metadata": {},
   "outputs": [
    {
     "name": "stdout",
     "output_type": "stream",
     "text": [
      "test_pos\tAssigned\t1\tADGRD1\n",
      "test_neg\tUnassigned_NoFeatures\t-1\tNA\n",
      "test_intron\tAssigned\t1\tADGRD1\n",
      "test_splice\tAssigned\t1\tADGRD1\n",
      "test_overlap1\tAssigned\t1\tADGRD1\n",
      "test_overlap2_pos\tAssigned\t1\tADGRD1\n",
      "test_overlap2_neg\tAssigned\t1\tADGRD1-AS1\n"
     ]
    }
   ],
   "source": [
    "%%bash\n",
    "featureCounts -Q 30 -a genes.gtf -t gene -g gene_name -s 1 -o output.genes -R CORE aligned.sam 2> featureCounts.log\n",
    "cat aligned.sam.featureCounts"
   ]
  },
  {
   "cell_type": "markdown",
   "id": "7424f73c-5d14-4749-85cb-f52632f00044",
   "metadata": {},
   "source": [
    "### align to exon, exclude intronic reads, strand specific"
   ]
  },
  {
   "cell_type": "code",
   "execution_count": 8,
   "id": "06f31b47-1ff6-46c4-9ad9-8ecf1b587260",
   "metadata": {},
   "outputs": [
    {
     "name": "stdout",
     "output_type": "stream",
     "text": [
      "test_pos\tAssigned\t1\tADGRD1\n",
      "test_neg\tUnassigned_NoFeatures\t-1\tNA\n",
      "test_intron\tUnassigned_NoFeatures\t-1\tNA\n",
      "test_splice\tAssigned\t1\tADGRD1\n",
      "test_overlap1\tAssigned\t1\tADGRD1\n",
      "test_overlap2_pos\tAssigned\t1\tADGRD1\n",
      "test_overlap2_neg\tAssigned\t1\tADGRD1-AS1\n"
     ]
    }
   ],
   "source": [
    "%%bash\n",
    "featureCounts -Q 30 -a genes.gtf -t exon -g gene_name -s 1 -o output.genes -R CORE aligned.sam 2> featureCounts.log\n",
    "cat aligned.sam.featureCounts"
   ]
  },
  {
   "cell_type": "markdown",
   "id": "509a356e-d8a5-4d88-a518-4bdb75347839",
   "metadata": {},
   "source": [
    "### align to gene, include intronic reads, non stranded"
   ]
  },
  {
   "cell_type": "code",
   "execution_count": 9,
   "id": "2afe4ef8-91b3-4945-98a3-f2ec694e6350",
   "metadata": {},
   "outputs": [
    {
     "name": "stdout",
     "output_type": "stream",
     "text": [
      "test_pos\tAssigned\t1\tADGRD1\n",
      "test_neg\tAssigned\t1\tADGRD1\n",
      "test_intron\tAssigned\t1\tADGRD1\n",
      "test_splice\tAssigned\t1\tADGRD1\n",
      "test_overlap1\tAssigned\t1\tADGRD1\n",
      "test_overlap2_pos\tUnassigned_Ambiguity\t-1\tNA\n",
      "test_overlap2_neg\tUnassigned_Ambiguity\t-1\tNA\n"
     ]
    }
   ],
   "source": [
    "%%bash\n",
    "featureCounts -Q 30 -a genes.gtf -t gene -g gene_name -o output.genes -R CORE aligned.sam 2> featureCounts.log\n",
    "cat aligned.sam.featureCounts"
   ]
  },
  {
   "cell_type": "markdown",
   "id": "0dffcf56-43da-4a84-ad8a-643e79d57bf7",
   "metadata": {},
   "source": [
    "### align to exon, exclude intronic reads, non stranded"
   ]
  },
  {
   "cell_type": "code",
   "execution_count": 10,
   "id": "caa61c7e-8a5c-4659-8b38-c7babc00fc2a",
   "metadata": {},
   "outputs": [
    {
     "name": "stdout",
     "output_type": "stream",
     "text": [
      "test_pos\tAssigned\t1\tADGRD1\n",
      "test_neg\tAssigned\t1\tADGRD1\n",
      "test_intron\tUnassigned_NoFeatures\t-1\tNA\n",
      "test_splice\tAssigned\t1\tADGRD1\n",
      "test_overlap1\tAssigned\t1\tADGRD1\n",
      "test_overlap2_pos\tUnassigned_Ambiguity\t-1\tNA\n",
      "test_overlap2_neg\tUnassigned_Ambiguity\t-1\tNA\n"
     ]
    }
   ],
   "source": [
    "%%bash\n",
    "featureCounts -Q 30 -a genes.gtf -t exon -g gene_name -o output.genes -R CORE aligned.sam 2> featureCounts.log\n",
    "cat aligned.sam.featureCounts"
   ]
  },
  {
   "cell_type": "code",
   "execution_count": null,
   "id": "c87f98cb-e21e-493c-88e0-a7e7369d4e00",
   "metadata": {},
   "outputs": [],
   "source": []
  }
 ],
 "metadata": {
  "kernelspec": {
   "display_name": "Python 3 (ipykernel)",
   "language": "python",
   "name": "python3"
  },
  "language_info": {
   "codemirror_mode": {
    "name": "ipython",
    "version": 3
   },
   "file_extension": ".py",
   "mimetype": "text/x-python",
   "name": "python",
   "nbconvert_exporter": "python",
   "pygments_lexer": "ipython3",
   "version": "3.11.0"
  },
  "vscode": {
   "interpreter": {
    "hash": "506a319ebebdb00029c604657cb2bbab64f5a438866e497f04618e385c1d8ae6"
   }
  }
 },
 "nbformat": 4,
 "nbformat_minor": 5
}
